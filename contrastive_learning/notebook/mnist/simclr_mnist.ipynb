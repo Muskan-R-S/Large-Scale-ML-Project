{
 "cells": [
  {
   "cell_type": "markdown",
   "metadata": {
    "id": "UomjczyElO_9"
   },
   "source": [
    "# Contrastive Learning on non-spurious MNIST dataset"
   ]
  },
  {
   "cell_type": "code",
   "execution_count": 1,
   "metadata": {
    "id": "2ERHkbgy1ulT"
   },
   "outputs": [],
   "source": [
    "import torch\n",
    "import torch.optim as optim\n",
    "import torch.nn as nn\n",
    "import torch.nn.functional as F\n",
    "\n",
    "from torchvision import datasets, transforms\n",
    "import matplotlib.pyplot as plt\n",
    "import numpy as np"
   ]
  },
  {
   "cell_type": "code",
   "execution_count": 35,
   "metadata": {
    "colab": {
     "base_uri": "https://localhost:8080/"
    },
    "id": "JoyUIKiYpsq0",
    "outputId": "56793ecc-221f-4fdf-97e5-5e82c0cb06bd"
   },
   "outputs": [
    {
     "data": {
      "text/plain": [
       "True"
      ]
     },
     "execution_count": 35,
     "metadata": {},
     "output_type": "execute_result"
    }
   ],
   "source": [
    "torch.cuda.is_available()"
   ]
  },
  {
   "cell_type": "markdown",
   "metadata": {
    "id": "zjomfTdt18o5"
   },
   "source": [
    "# Utils"
   ]
  },
  {
   "cell_type": "code",
   "execution_count": 2,
   "metadata": {
    "id": "xnyphpqb10fG"
   },
   "outputs": [],
   "source": [
    "from collections import defaultdict\n",
    "\n",
    "class MetricMonitor:\n",
    "    def __init__(self, float_precision=4):\n",
    "        self.float_precision = float_precision\n",
    "        self.reset()\n",
    "\n",
    "    def reset(self):\n",
    "        self.metrics = defaultdict(lambda: {\"val\": 0, \"count\": 0, \"avg\": 0})\n",
    "\n",
    "    def update(self, metric_name, val):\n",
    "        metric = self.metrics[metric_name]\n",
    "\n",
    "        metric[\"val\"] += val\n",
    "        metric[\"count\"] += 1\n",
    "        metric[\"avg\"] = metric[\"val\"] / metric[\"count\"]\n",
    "\n",
    "    def __str__(self):\n",
    "        return \" | \".join(\n",
    "            [\n",
    "                \"{metric_name}: {avg:.{float_precision}f}\".format(\n",
    "                    metric_name=metric_name, avg=metric[\"avg\"], float_precision=self.float_precision\n",
    "                )\n",
    "                for (metric_name, metric) in self.metrics.items()\n",
    "            ]\n",
    "        )"
   ]
  },
  {
   "cell_type": "code",
   "execution_count": 3,
   "metadata": {
    "id": "Zh7tkIkK13dQ"
   },
   "outputs": [],
   "source": [
    "class EarlyStopping:\n",
    "    def __init__(self, patience=7, verbose=False, delta=0, path='checkpoint.pt', trace_func=print):\n",
    "        \"\"\"\n",
    "        Source:\n",
    "            https://github.com/Bjarten/early-stopping-pytorch/blob/master/pytorchtools.py\n",
    "        Args:\n",
    "            patience (int): How long to wait after last time validation loss improved.\n",
    "                            Default: 7\n",
    "            verbose (bool): If True, prints a message for each validation loss improvement.\n",
    "                            Default: False\n",
    "            delta (float): Minimum change in the monitored quantity to qualify as an improvement.\n",
    "                            Default: 0\n",
    "            path (str): Path for the checkpoint to be saved to.\n",
    "                            Default: 'checkpoint.pt'\n",
    "            trace_func (function): trace print function.\n",
    "                            Default: print\n",
    "        \"\"\"\n",
    "        self.patience = patience\n",
    "        self.verbose = verbose\n",
    "        self.counter = 0\n",
    "        self.best_score = None\n",
    "        self.early_stop = False\n",
    "        self.val_loss_min = np.Inf\n",
    "        self.delta = delta\n",
    "        self.path = path\n",
    "        self.trace_func = trace_func\n",
    "    def __call__(self, val_loss, model):\n",
    "\n",
    "        score = -val_loss\n",
    "\n",
    "        if self.best_score is None:\n",
    "            self.best_score = score\n",
    "            self.save_checkpoint(val_loss, model)\n",
    "        elif score < self.best_score + self.delta:\n",
    "            self.counter += 1\n",
    "            self.trace_func(f'> early stopping counter: {self.counter} out of {self.patience}')\n",
    "            if self.counter >= self.patience:\n",
    "                self.early_stop = True\n",
    "        else:\n",
    "            self.best_score = score\n",
    "            self.save_checkpoint(val_loss, model)\n",
    "            self.counter = 0\n",
    "\n",
    "    def save_checkpoint(self, val_loss, model):\n",
    "        '''Saves model when validation loss decrease.'''\n",
    "        if self.verbose:\n",
    "            self.trace_func(f'validation loss decreased ({self.val_loss_min:.6f} --> {val_loss:.6f}).  Saving model ...')\n",
    "        torch.save(model.state_dict(), self.path)\n",
    "        self.val_loss_min = val_loss"
   ]
  },
  {
   "cell_type": "code",
   "execution_count": 4,
   "metadata": {
    "id": "KZtARFoQ2hE_"
   },
   "outputs": [],
   "source": [
    "def calculate_accuracy(output, target):\n",
    "    \"Calculates accuracy\"\n",
    "    output = output.data.max(dim=1,keepdim=True)[1]\n",
    "    output = output == 1.0\n",
    "    output = torch.flatten(output)\n",
    "    target = target == 1.0\n",
    "    target = torch.flatten(target)\n",
    "    return torch.true_divide((target == output).sum(dim=0), output.size(0)).item()"
   ]
  },
  {
   "cell_type": "code",
   "execution_count": 5,
   "metadata": {
    "id": "aA92OLnc3AVr"
   },
   "outputs": [],
   "source": [
    "def save_model(model, optimizer, epoch, save_file):\n",
    "    print('\\n==> Saving...')\n",
    "    state = {\n",
    "        'model': model.state_dict(),\n",
    "        'optimizer': optimizer.state_dict(),\n",
    "        'epoch': epoch,\n",
    "    }\n",
    "    torch.save(state, save_file)\n",
    "    del state"
   ]
  },
  {
   "cell_type": "code",
   "execution_count": 6,
   "metadata": {
    "id": "8SaaWs9w3HqS"
   },
   "outputs": [],
   "source": [
    "class TwoCropTransform:\n",
    "    \"\"\"Create two crops of the same image\"\"\"\n",
    "    def __init__(self, transform):\n",
    "        self.transform = transform\n",
    "\n",
    "    def __call__(self, x):\n",
    "        return [self.transform(x), self.transform(x)]"
   ]
  },
  {
   "cell_type": "markdown",
   "metadata": {
    "id": "13lsLXFQ2CtG"
   },
   "source": [
    "# Method"
   ]
  },
  {
   "cell_type": "code",
   "execution_count": 7,
   "metadata": {
    "id": "VhCOJQS92eTr"
   },
   "outputs": [],
   "source": [
    "class Encoder(torch.nn.Module):\n",
    "    \"Encoder network\"\n",
    "    def __init__(self):\n",
    "        super(Encoder, self).__init__()\n",
    "        # L1 (?, 28, 28, 3) -> (?, 28, 28, 32) -> (?, 14, 14, 32)\n",
    "        self.layer1 = torch.nn.Sequential(\n",
    "            torch.nn.Conv2d(3, 32, kernel_size=3, stride=1, padding=1),\n",
    "            torch.nn.BatchNorm2d(32),\n",
    "            torch.nn.ReLU(),\n",
    "            torch.nn.MaxPool2d(kernel_size=2, stride=2),\n",
    "            torch.nn.Dropout(p=0.2)\n",
    "            )\n",
    "        # L2 (?, 14, 14, 32) -> (?, 14, 14, 64) -> (?, 7, 7, 64)\n",
    "        self.layer2 = torch.nn.Sequential(\n",
    "            torch.nn.Conv2d(32, 64, kernel_size=3, stride=1, padding=1),\n",
    "            torch.nn.BatchNorm2d(64),\n",
    "            torch.nn.ReLU(),\n",
    "            torch.nn.MaxPool2d(kernel_size=2, stride=2),\n",
    "            torch.nn.Dropout(p=0.2)\n",
    "            )\n",
    "        # L3 (?, 7, 7, 64) -> (?, 7, 7, 128) -> (?, 4, 4, 128)\n",
    "        self.layer3 = torch.nn.Sequential(\n",
    "            torch.nn.Conv2d(64, 128, kernel_size=3, stride=1, padding=1),\n",
    "            torch.nn.BatchNorm2d(128),\n",
    "            torch.nn.ReLU(),\n",
    "            torch.nn.MaxPool2d(kernel_size=2, stride=2, padding=1),\n",
    "            torch.nn.Dropout(p=0.2)\n",
    "            )\n",
    "        self._to_linear = 4 * 4 * 128\n",
    "\n",
    "    def forward(self, x):\n",
    "        x = self.layer1(x)\n",
    "        x = self.layer2(x)\n",
    "        x = self.layer3(x)\n",
    "        x = x.view(x.size(0), -1) # Flatten them for FC\n",
    "        return x\n",
    "\n",
    "\n",
    "class LinearClassifier(torch.nn.Module):\n",
    "    \"\"\"Linear classifier\"\"\"\n",
    "    def __init__(self):\n",
    "        super(LinearClassifier, self).__init__()\n",
    "        self.fc = torch.nn.Sequential(\n",
    "            torch.nn.Linear(4 * 4 * 128, 10),\n",
    "            )\n",
    "\n",
    "    def forward(self, x):\n",
    "        x = self.fc(x)\n",
    "        probs = torch.nn.functional.softmax(x, dim=0)\n",
    "        return probs"
   ]
  },
  {
   "cell_type": "code",
   "execution_count": 8,
   "metadata": {
    "id": "EMdvU-1if6R8"
   },
   "outputs": [],
   "source": [
    "class SupCon(nn.Module):\n",
    "    \"\"\"encoder + projection head\"\"\"\n",
    "    def __init__(self, model, head='mlp', feat_dim=128):\n",
    "        super(SupCon, self).__init__()\n",
    "\n",
    "        self.dim_in = model._to_linear\n",
    "        self.encoder = model\n",
    "\n",
    "        if head == 'linear':\n",
    "            self.head = nn.Linear(self.dim_in, feat_dim)\n",
    "        elif head == 'mlp':\n",
    "            self.head = nn.Sequential(\n",
    "                nn.Linear(self.dim_in, self.dim_in),\n",
    "                nn.ReLU(inplace=True),\n",
    "                nn.Linear(self.dim_in, feat_dim)\n",
    "            )\n",
    "        else:\n",
    "            raise NotImplementedError('Head not supported: {}'.format(head))\n",
    "\n",
    "    def forward(self, x):\n",
    "        feat = self.encoder(x)\n",
    "        feat = F.normalize(self.head(feat), dim=1)\n",
    "        return feat"
   ]
  },
  {
   "cell_type": "code",
   "execution_count": 9,
   "metadata": {
    "id": "P6MwxxWFf6R8"
   },
   "outputs": [],
   "source": [
    "\"\"\"\n",
    "Author: Yonglong Tian (yonglong@mit.edu)\n",
    "Date: May 07, 2020\n",
    "\"\"\"\n",
    "class SupConLoss(nn.Module):\n",
    "    def __init__(self, temperature=0.07, contrast_mode='all',\n",
    "                 base_temperature=0.07):\n",
    "        super(SupConLoss, self).__init__()\n",
    "        self.temperature = temperature\n",
    "        self.contrast_mode = contrast_mode\n",
    "        self.base_temperature = base_temperature\n",
    "\n",
    "    def forward(self, features, labels=None, mask=None):\n",
    "        device = (torch.device('cuda')\n",
    "                  if features.is_cuda\n",
    "                  else torch.device('cpu'))\n",
    "\n",
    "        if len(features.shape) < 3:\n",
    "            raise ValueError('`features` needs to be [bsz, n_views, ...],'\n",
    "                             'at least 3 dimensions are required')\n",
    "        if len(features.shape) > 3:\n",
    "            features = features.view(features.shape[0], features.shape[1], -1)\n",
    "\n",
    "        batch_size = features.shape[0]\n",
    "        if labels is not None and mask is not None:\n",
    "            raise ValueError('Cannot define both `labels` and `mask`')\n",
    "        elif labels is None and mask is None:\n",
    "            mask = torch.eye(batch_size, dtype=torch.float32).to(device)\n",
    "        elif labels is not None:\n",
    "            labels = labels.contiguous().view(-1, 1)\n",
    "            if labels.shape[0] != batch_size:\n",
    "                raise ValueError('Num of labels does not match num of features')\n",
    "            mask = torch.eq(labels, labels.T).float().to(device)\n",
    "        else:\n",
    "            mask = mask.float().to(device)\n",
    "\n",
    "        contrast_count = features.shape[1]\n",
    "        contrast_feature = torch.cat(torch.unbind(features, dim=1), dim=0)\n",
    "        if self.contrast_mode == 'one':\n",
    "            anchor_feature = features[:, 0]\n",
    "            anchor_count = 1\n",
    "        elif self.contrast_mode == 'all':\n",
    "            anchor_feature = contrast_feature\n",
    "            anchor_count = contrast_count\n",
    "        else:\n",
    "            raise ValueError('Unknown mode: {}'.format(self.contrast_mode))\n",
    "\n",
    "        # compute logits\n",
    "        anchor_dot_contrast = torch.div(\n",
    "            torch.matmul(anchor_feature, contrast_feature.T),\n",
    "            self.temperature)\n",
    "        # for numerical stability\n",
    "        logits_max, _ = torch.max(anchor_dot_contrast, dim=1, keepdim=True)\n",
    "        logits = anchor_dot_contrast - logits_max.detach()\n",
    "\n",
    "        # tile mask\n",
    "        mask = mask.repeat(anchor_count, contrast_count)\n",
    "        # mask-out self-contrast cases\n",
    "        logits_mask = torch.scatter(\n",
    "            torch.ones_like(mask),\n",
    "            1,\n",
    "            torch.arange(batch_size * anchor_count).view(-1, 1).to(device),\n",
    "            0\n",
    "        )\n",
    "        mask = mask * logits_mask\n",
    "\n",
    "        # compute log_prob\n",
    "        exp_logits = torch.exp(logits) * logits_mask\n",
    "        log_prob = logits - torch.log(exp_logits.sum(1, keepdim=True))\n",
    "\n",
    "        # compute mean of log-likelihood over positive\n",
    "        mean_log_prob_pos = (mask * log_prob).sum(1) / mask.sum(1)\n",
    "\n",
    "        # loss\n",
    "        loss = - (self.temperature / self.base_temperature) * mean_log_prob_pos\n",
    "        loss = loss.view(anchor_count, batch_size).mean()\n",
    "\n",
    "        return loss"
   ]
  },
  {
   "cell_type": "markdown",
   "metadata": {
    "id": "vYs-7fVG3CLs"
   },
   "source": [
    "# Training"
   ]
  },
  {
   "cell_type": "code",
   "execution_count": 10,
   "metadata": {
    "id": "VWJL-DyW2j5g"
   },
   "outputs": [],
   "source": [
    "def pretraining(epoch, model, contrastive_loader, optimizer, criterion, method='SimCLR'):\n",
    "    \"Contrastive pre-training over an epoch\"\n",
    "    metric_monitor = MetricMonitor()\n",
    "    model.train()\n",
    "    for batch_idx, (data,labels) in enumerate(contrastive_loader):\n",
    "        # print(batch_idx)\n",
    "        # print(data[0].shape)\n",
    "        # print(data[1].shape)\n",
    "        # print(labels.shape)\n",
    "        data = torch.cat([data[0], data[1]], dim=0)\n",
    "        # print(data.shape)\n",
    "        if torch.cuda.is_available():\n",
    "            data,labels = data.cuda(), labels.cuda()\n",
    "        data, labels = torch.autograd.Variable(data,False), torch.autograd.Variable(labels)\n",
    "        bsz = labels.shape[0]\n",
    "        features = model(data)\n",
    "        f1, f2 = torch.split(features, [bsz, bsz], dim=0)\n",
    "        features = torch.cat([f1.unsqueeze(1), f2.unsqueeze(1)], dim=1)\n",
    "        if method == 'SupCon':\n",
    "            loss = criterion(features, labels)\n",
    "        elif method == 'SimCLR':\n",
    "            loss = criterion(features)\n",
    "        else:\n",
    "            raise ValueError('contrastive method not supported: {}'.format(method))\n",
    "        metric_monitor.update(\"Loss\", loss.item())\n",
    "        metric_monitor.update(\"Learning Rate\", optimizer.param_groups[0]['lr'])\n",
    "        optimizer.zero_grad()\n",
    "        loss.backward()\n",
    "        optimizer.step()\n",
    "    print(\"[Epoch: {epoch:03d}] Contrastive Pre-train | {metric_monitor}\".format(epoch=epoch, metric_monitor=metric_monitor))\n",
    "    return metric_monitor.metrics['Loss']['avg'], metric_monitor.metrics['Learning Rate']['avg']"
   ]
  },
  {
   "cell_type": "code",
   "execution_count": 11,
   "metadata": {
    "id": "nHCnAbSV2kj6"
   },
   "outputs": [],
   "source": [
    "def training(epoch, model, classifier, train_loader, optimizer, criterion):\n",
    "    \"Training over an epoch\"\n",
    "    metric_monitor = MetricMonitor()\n",
    "    model.eval()\n",
    "    classifier.train()\n",
    "    for batch_idx, (data,labels) in enumerate(train_loader):\n",
    "        # print(batch_idx)\n",
    "        # print(data.shape)\n",
    "        # print(labels.shape)\n",
    "        if torch.cuda.is_available():\n",
    "            data,labels = data.cuda(), labels.cuda()\n",
    "        data, labels = torch.autograd.Variable(data,False), torch.autograd.Variable(labels)\n",
    "        with torch.no_grad():\n",
    "            features = model.encoder(data)\n",
    "        output = classifier(features.float())\n",
    "        loss = criterion(output, labels)\n",
    "        accuracy = calculate_accuracy(output, labels)\n",
    "        metric_monitor.update(\"Loss\", loss.item())\n",
    "        metric_monitor.update(\"Accuracy\", accuracy)\n",
    "        data.detach()\n",
    "        labels.detach()\n",
    "        optimizer.zero_grad()\n",
    "        loss.backward()\n",
    "        optimizer.step()\n",
    "    print(\"[Epoch: {epoch:03d}] Train      | {metric_monitor}\".format(epoch=epoch, metric_monitor=metric_monitor))\n",
    "    return metric_monitor.metrics['Loss']['avg'], metric_monitor.metrics['Accuracy']['avg']"
   ]
  },
  {
   "cell_type": "code",
   "execution_count": 12,
   "metadata": {
    "id": "XF9NIV7T3zrR"
   },
   "outputs": [],
   "source": [
    "def validation(epoch, model, classifier, valid_loader, criterion):\n",
    "    \"Validation over an epoch\"\n",
    "    metric_monitor = MetricMonitor()\n",
    "    model.eval()\n",
    "    classifier.eval()\n",
    "    with torch.no_grad():\n",
    "        for batch_idx, (data,labels) in enumerate(valid_loader):\n",
    "            if torch.cuda.is_available():\n",
    "                data,labels = data.cuda(), labels.cuda()\n",
    "            data, labels = torch.autograd.Variable(data,False), torch.autograd.Variable(labels)\n",
    "            features = model.encoder(data)\n",
    "            output = classifier(features.float())\n",
    "            loss = criterion(output,labels)\n",
    "            accuracy = calculate_accuracy(output, labels)\n",
    "            metric_monitor.update(\"Loss\", loss.item())\n",
    "            metric_monitor.update(\"Accuracy\", accuracy)\n",
    "            data.detach()\n",
    "            labels.detach()\n",
    "    print(\"[Epoch: {epoch:03d}] Validation | {metric_monitor}\".format(epoch=epoch, metric_monitor=metric_monitor))\n",
    "    return metric_monitor.metrics['Loss']['avg'], metric_monitor.metrics['Accuracy']['avg']"
   ]
  },
  {
   "cell_type": "markdown",
   "metadata": {
    "id": "3WR8LA2dhhGN"
   },
   "source": [
    "# Data"
   ]
  },
  {
   "cell_type": "code",
   "execution_count": 13,
   "metadata": {
    "colab": {
     "base_uri": "https://localhost:8080/"
    },
    "id": "IimUCiDDhnyV",
    "outputId": "3001c5df-d7fe-400a-a27f-0c45eadab1a0"
   },
   "outputs": [
    {
     "name": "stdout",
     "output_type": "stream",
     "text": [
      "Downloading http://yann.lecun.com/exdb/mnist/train-images-idx3-ubyte.gz\n",
      "Downloading http://yann.lecun.com/exdb/mnist/train-images-idx3-ubyte.gz to ./data/MNIST/raw/train-images-idx3-ubyte.gz\n"
     ]
    },
    {
     "name": "stderr",
     "output_type": "stream",
     "text": [
      "100%|██████████| 9912422/9912422 [00:00<00:00, 176856960.98it/s]"
     ]
    },
    {
     "name": "stdout",
     "output_type": "stream",
     "text": [
      "Extracting ./data/MNIST/raw/train-images-idx3-ubyte.gz to ./data/MNIST/raw\n"
     ]
    },
    {
     "name": "stderr",
     "output_type": "stream",
     "text": [
      "\n"
     ]
    },
    {
     "name": "stdout",
     "output_type": "stream",
     "text": [
      "\n",
      "Downloading http://yann.lecun.com/exdb/mnist/train-labels-idx1-ubyte.gz\n",
      "Downloading http://yann.lecun.com/exdb/mnist/train-labels-idx1-ubyte.gz to ./data/MNIST/raw/train-labels-idx1-ubyte.gz\n"
     ]
    },
    {
     "name": "stderr",
     "output_type": "stream",
     "text": [
      "100%|██████████| 28881/28881 [00:00<00:00, 33124335.20it/s]"
     ]
    },
    {
     "name": "stdout",
     "output_type": "stream",
     "text": [
      "Extracting ./data/MNIST/raw/train-labels-idx1-ubyte.gz to ./data/MNIST/raw\n",
      "\n",
      "Downloading http://yann.lecun.com/exdb/mnist/t10k-images-idx3-ubyte.gz\n",
      "Downloading http://yann.lecun.com/exdb/mnist/t10k-images-idx3-ubyte.gz to ./data/MNIST/raw/t10k-images-idx3-ubyte.gz\n"
     ]
    },
    {
     "name": "stderr",
     "output_type": "stream",
     "text": [
      "\n",
      "100%|██████████| 1648877/1648877 [00:00<00:00, 39444547.47it/s]\n"
     ]
    },
    {
     "name": "stdout",
     "output_type": "stream",
     "text": [
      "Extracting ./data/MNIST/raw/t10k-images-idx3-ubyte.gz to ./data/MNIST/raw\n",
      "\n",
      "Downloading http://yann.lecun.com/exdb/mnist/t10k-labels-idx1-ubyte.gz\n",
      "Downloading http://yann.lecun.com/exdb/mnist/t10k-labels-idx1-ubyte.gz to ./data/MNIST/raw/t10k-labels-idx1-ubyte.gz\n"
     ]
    },
    {
     "name": "stderr",
     "output_type": "stream",
     "text": [
      "100%|██████████| 4542/4542 [00:00<00:00, 5719162.04it/s]\n"
     ]
    },
    {
     "name": "stdout",
     "output_type": "stream",
     "text": [
      "Extracting ./data/MNIST/raw/t10k-labels-idx1-ubyte.gz to ./data/MNIST/raw\n",
      "\n"
     ]
    }
   ],
   "source": [
    "contrastive_transform = transforms.Compose([\n",
    "  transforms.Grayscale(num_output_channels = 3),  # Convert to 3 color channel\n",
    "  transforms.RandomHorizontalFlip(),\n",
    "  transforms.RandomResizedCrop(size=28, scale=(0.2, 1.)),\n",
    "  transforms.ToTensor(),\n",
    "  transforms.Normalize((0.5,), (0.5,)),\n",
    "])\n",
    "train_transform = transforms.Compose([\n",
    "  transforms.Grayscale(num_output_channels = 3),  # Convert to 3 color channel\n",
    "  transforms.RandomHorizontalFlip(),\n",
    "  transforms.ToTensor(),\n",
    "  transforms.Normalize((0.5,), (0.5,)),\n",
    "])\n",
    "valid_transform = transforms.Compose([\n",
    "  transforms.Grayscale(num_output_channels = 3),  # Convert to 3 color channel\n",
    "  transforms.ToTensor(),\n",
    "  transforms.Normalize((0.5,), (0.5,)),\n",
    "])\n",
    "\n",
    "contrastive_set = datasets.MNIST('./data', download=True, train=True, transform=TwoCropTransform(contrastive_transform))\n",
    "train_set = datasets.MNIST('./data', download=True, train=True, transform=train_transform)\n",
    "valid_set = datasets.MNIST('./data', download=True, train=False, transform=valid_transform)"
   ]
  },
  {
   "cell_type": "code",
   "execution_count": 14,
   "metadata": {
    "colab": {
     "base_uri": "https://localhost:8080/"
    },
    "id": "V9ba2G0BtgXu",
    "outputId": "fa5d4e9a-b06e-4033-849d-738a4f96ed01"
   },
   "outputs": [
    {
     "name": "stdout",
     "output_type": "stream",
     "text": [
      "Dataset MNIST\n",
      "    Number of datapoints: 60000\n",
      "    Root location: ./data\n",
      "    Split: Train\n",
      "    StandardTransform\n",
      "Transform: <__main__.TwoCropTransform object at 0x7913f5092a70>\n",
      "['0 - zero', '1 - one', '2 - two', '3 - three', '4 - four', '5 - five', '6 - six', '7 - seven', '8 - eight', '9 - nine']\n",
      "10\n",
      "60000\n",
      "2\n",
      "2\n",
      "3\n",
      "28\n",
      "28\n"
     ]
    }
   ],
   "source": [
    "print(contrastive_set)\n",
    "print(contrastive_set.classes)\n",
    "print(len(contrastive_set.classes))\n",
    "print(len(contrastive_set))\n",
    "print(len(contrastive_set[0])) # 2 entries (2 crops of same img for a given label)\n",
    "print(len(contrastive_set[0][0])) # img, label\n",
    "print(len(contrastive_set[0][0][0])) # color channel\n",
    "print(len(contrastive_set[0][0][0][0])) # dim\n",
    "print(len(contrastive_set[0][0][0][0][0])) # dim"
   ]
  },
  {
   "cell_type": "code",
   "execution_count": 15,
   "metadata": {
    "colab": {
     "base_uri": "https://localhost:8080/"
    },
    "id": "kLDoHoziGJy7",
    "outputId": "83619447-5c5a-4e91-e9cd-c7858ceed471"
   },
   "outputs": [
    {
     "name": "stdout",
     "output_type": "stream",
     "text": [
      "Dataset MNIST\n",
      "    Number of datapoints: 60000\n",
      "    Root location: ./data\n",
      "    Split: Train\n",
      "    StandardTransform\n",
      "Transform: Compose(\n",
      "               Grayscale(num_output_channels=3)\n",
      "               RandomHorizontalFlip(p=0.5)\n",
      "               ToTensor()\n",
      "               Normalize(mean=(0.5,), std=(0.5,))\n",
      "           )\n",
      "['0 - zero', '1 - one', '2 - two', '3 - three', '4 - four', '5 - five', '6 - six', '7 - seven', '8 - eight', '9 - nine']\n",
      "10\n",
      "60000\n",
      "2\n",
      "3\n",
      "28\n",
      "28\n"
     ]
    }
   ],
   "source": [
    "print(train_set)\n",
    "print(train_set.classes)\n",
    "print(len(train_set.classes))\n",
    "print(len(train_set))\n",
    "print(len(train_set[0])) # img, label\n",
    "print(len(train_set[0][0])) # color channel\n",
    "print(len(train_set[0][0][0])) # dim\n",
    "print(len(train_set[0][0][0][0])) # dim"
   ]
  },
  {
   "cell_type": "code",
   "execution_count": 16,
   "metadata": {
    "colab": {
     "base_uri": "https://localhost:8080/"
    },
    "id": "HMhheeZ2GJ29",
    "outputId": "83923448-10c9-4184-8575-ff1ab0c22e38"
   },
   "outputs": [
    {
     "name": "stdout",
     "output_type": "stream",
     "text": [
      "Dataset MNIST\n",
      "    Number of datapoints: 10000\n",
      "    Root location: ./data\n",
      "    Split: Test\n",
      "    StandardTransform\n",
      "Transform: Compose(\n",
      "               Grayscale(num_output_channels=3)\n",
      "               ToTensor()\n",
      "               Normalize(mean=(0.5,), std=(0.5,))\n",
      "           )\n",
      "['0 - zero', '1 - one', '2 - two', '3 - three', '4 - four', '5 - five', '6 - six', '7 - seven', '8 - eight', '9 - nine']\n",
      "10\n",
      "10000\n",
      "2\n",
      "3\n",
      "28\n",
      "28\n"
     ]
    }
   ],
   "source": [
    "print(valid_set)\n",
    "print(valid_set.classes)\n",
    "print(len(valid_set.classes))\n",
    "print(len(valid_set))\n",
    "print(len(valid_set[0])) # img, label\n",
    "print(len(valid_set[0][0])) # color channel\n",
    "print(len(valid_set[0][0][0])) # dim\n",
    "print(len(valid_set[0][0][0][0])) # dim"
   ]
  },
  {
   "cell_type": "code",
   "execution_count": 33,
   "metadata": {
    "colab": {
     "base_uri": "https://localhost:8080/",
     "height": 67
    },
    "id": "aXKLqBo-pHkw",
    "outputId": "58231c95-2d69-4f6a-c211-46d3f2e5484e"
   },
   "outputs": [
    {
     "data": {
      "image/png": "[encoded data removed]",
      "text/plain": [
       "<PIL.Image.Image image mode=RGB size=50x50>"
      ]
     },
     "execution_count": 33,
     "metadata": {},
     "output_type": "execute_result"
    }
   ],
   "source": [
    "import torchvision.transforms as T\n",
    "T.ToPILImage()(contrastive_set[0][0][0]).resize((50,50))"
   ]
  },
  {
   "cell_type": "markdown",
   "metadata": {
    "id": "5HUFJyf02aYV"
   },
   "source": [
    "# 4. Main"
   ]
  },
  {
   "cell_type": "code",
   "execution_count": 36,
   "metadata": {
    "id": "n5XDfwlD2loD"
   },
   "outputs": [],
   "source": [
    "import os\n",
    "\n",
    "def main():\n",
    "\n",
    "    num_epochs = 50\n",
    "    use_early_stopping = True\n",
    "    use_scheduler = True\n",
    "    head_type = 'mlp' # choose among 'mlp' and 'linear'\n",
    "    save_file = os.path.join('./results/', 'model.pth')\n",
    "    if not os.path.isdir('./results/'):\n",
    "         os.makedirs('./results/')\n",
    "\n",
    "    contrastive_loader = torch.utils.data.DataLoader(contrastive_set, batch_size=64, shuffle=True)\n",
    "    train_loader = torch.utils.data.DataLoader(train_set, batch_size=64, shuffle=True)\n",
    "    valid_loader = torch.utils.data.DataLoader(valid_set, batch_size=64, shuffle=True)\n",
    "\n",
    "    # Part 1\n",
    "    encoder = Encoder()\n",
    "    model = SupCon(encoder, head=head_type, feat_dim=128)\n",
    "    criterion = SupConLoss(temperature=0.07)\n",
    "    if torch.cuda.is_available():\n",
    "        model = model.cuda()\n",
    "        criterion = criterion.cuda()\n",
    "    optimizer = torch.optim.Adam(model.parameters(), lr=1e-3, betas=(0.9, 0.999), eps=1e-08, weight_decay=1e-3)\n",
    "    scheduler = torch.optim.lr_scheduler.StepLR(optimizer, step_size=20, gamma=0.9)\n",
    "\n",
    "    contrastive_loss, contrastive_lr = [], []\n",
    "\n",
    "    for epoch in range(1, num_epochs+1):\n",
    "        print('Epoch {} start'.format(epoch))\n",
    "        loss, lr = pretraining(epoch, model, contrastive_loader, optimizer, criterion, method='SimCLR')\n",
    "        if use_scheduler:\n",
    "            scheduler.step()\n",
    "        contrastive_loss.append(loss)\n",
    "        contrastive_lr.append(lr)\n",
    "        print('Epoch {} end'.format(epoch))\n",
    "\n",
    "    save_model(model, optimizer, num_epochs, save_file)\n",
    "\n",
    "    plt.plot(range(1,len(contrastive_lr)+1),contrastive_lr, color='b', label = 'learning rate')\n",
    "    plt.legend(), plt.ylabel('loss'), plt.xlabel('epochs'), plt.title('Learning Rate'), plt.show()\n",
    "\n",
    "    plt.plot(range(1,len(contrastive_loss)+1),contrastive_loss, color='b', label = 'loss')\n",
    "    plt.legend(), plt.ylabel('loss'), plt.xlabel('epochs'), plt.title('Loss'), plt.show()\n",
    "\n",
    "    # Part 2\n",
    "    model = SupCon(encoder, head=head_type, feat_dim=128)\n",
    "    classifier = LinearClassifier()\n",
    "    criterion = torch.nn.CrossEntropyLoss()\n",
    "\n",
    "    ckpt = torch.load(save_file, map_location='cpu')\n",
    "    state_dict = ckpt['model']\n",
    "    new_state_dict = {}\n",
    "    for k, v in state_dict.items():\n",
    "        k = k.replace(\"module.\", \"\")\n",
    "        new_state_dict[k] = v\n",
    "    state_dict = new_state_dict\n",
    "    model.load_state_dict(state_dict)\n",
    "\n",
    "    if torch.cuda.is_available():\n",
    "        model = model.cuda()\n",
    "        classifier = classifier.cuda()\n",
    "        criterion = criterion.cuda()\n",
    "\n",
    "    train_losses , train_accuracies = [],[]\n",
    "    valid_losses , valid_accuracies = [],[]\n",
    "\n",
    "    if use_early_stopping:\n",
    "        early_stopping = EarlyStopping(patience=30, verbose=False, delta=1e-4)\n",
    "\n",
    "    for epoch in range(1, num_epochs+1):\n",
    "        print('Epoch {} start'.format(epoch))\n",
    "\n",
    "        train_loss, train_accuracy = training(epoch, model, classifier, train_loader, optimizer, criterion)\n",
    "        valid_loss, valid_accuracy = validation(epoch, model, classifier, valid_loader, criterion)\n",
    "\n",
    "        if use_scheduler:\n",
    "            scheduler.step()\n",
    "\n",
    "        train_losses.append(train_loss)\n",
    "        train_accuracies.append(train_accuracy)\n",
    "        valid_losses.append(valid_loss)\n",
    "        valid_accuracies.append(valid_accuracy)\n",
    "\n",
    "        print('Epoch {} end'.format(epoch))\n",
    "\n",
    "        if use_early_stopping:\n",
    "            early_stopping(valid_loss, model)\n",
    "\n",
    "            if early_stopping.early_stop:\n",
    "                print('Early stopping at epoch', epoch)\n",
    "                break\n",
    "\n",
    "    plt.plot(range(1,len(train_losses)+1), train_losses, color='b', label = 'training loss')\n",
    "    plt.plot(range(1,len(valid_losses)+1), valid_losses, color='r', linestyle='dashed', label = 'validation loss')\n",
    "    plt.legend(), plt.ylabel('loss'), plt.xlabel('epochs'), plt.title('Loss'), plt.show()\n",
    "\n",
    "    plt.plot(range(1,len(train_accuracies)+1),train_accuracies, color='b', label = 'training accuracy')\n",
    "    plt.plot(range(1,len(valid_accuracies)+1),valid_accuracies, color='r', linestyle='dashed', label = 'validation accuracy')\n",
    "    plt.legend(), plt.ylabel('loss'), plt.xlabel('epochs'), plt.title('Accuracy'), plt.show()"
   ]
  },
  {
   "cell_type": "code",
   "execution_count": 37,
   "metadata": {
    "colab": {
     "base_uri": "https://localhost:8080/",
     "height": 1000
    },
    "id": "PTxkyIgK2n2M",
    "outputId": "ce9d17d5-ec25-4a5c-bb2b-6e1fe04520cb"
   },
   "outputs": [
    {
     "name": "stdout",
     "output_type": "stream",
     "text": [
      "Epoch 1 start\n",
      "[Epoch: 001] Contrastive Pre-train | Loss: 2.6896 | Learning Rate: 0.0010\n",
      "Epoch 1 end\n",
      "Epoch 2 start\n",
      "[Epoch: 002] Contrastive Pre-train | Loss: 1.7506 | Learning Rate: 0.0010\n",
      "Epoch 2 end\n",
      "Epoch 3 start\n",
      "[Epoch: 003] Contrastive Pre-train | Loss: 1.4733 | Learning Rate: 0.0010\n",
      "Epoch 3 end\n",
      "Epoch 4 start\n",
      "[Epoch: 004] Contrastive Pre-train | Loss: 1.3309 | Learning Rate: 0.0010\n",
      "Epoch 4 end\n",
      "Epoch 5 start\n",
      "[Epoch: 005] Contrastive Pre-train | Loss: 1.2423 | Learning Rate: 0.0010\n",
      "Epoch 5 end\n",
      "Epoch 6 start\n",
      "[Epoch: 006] Contrastive Pre-train | Loss: 1.1636 | Learning Rate: 0.0010\n",
      "Epoch 6 end\n",
      "Epoch 7 start\n",
      "[Epoch: 007] Contrastive Pre-train | Loss: 1.1083 | Learning Rate: 0.0010\n",
      "Epoch 7 end\n",
      "Epoch 8 start\n",
      "[Epoch: 008] Contrastive Pre-train | Loss: 1.0682 | Learning Rate: 0.0010\n",
      "Epoch 8 end\n",
      "Epoch 9 start\n",
      "[Epoch: 009] Contrastive Pre-train | Loss: 1.0319 | Learning Rate: 0.0010\n",
      "Epoch 9 end\n",
      "Epoch 10 start\n",
      "[Epoch: 010] Contrastive Pre-train | Loss: 1.0043 | Learning Rate: 0.0010\n",
      "Epoch 10 end\n",
      "Epoch 11 start\n",
      "[Epoch: 011] Contrastive Pre-train | Loss: 0.9945 | Learning Rate: 0.0010\n",
      "Epoch 11 end\n",
      "Epoch 12 start\n",
      "[Epoch: 012] Contrastive Pre-train | Loss: 0.9756 | Learning Rate: 0.0010\n",
      "Epoch 12 end\n",
      "Epoch 13 start\n",
      "[Epoch: 013] Contrastive Pre-train | Loss: 0.9712 | Learning Rate: 0.0010\n",
      "Epoch 13 end\n",
      "Epoch 14 start\n",
      "[Epoch: 014] Contrastive Pre-train | Loss: 0.9434 | Learning Rate: 0.0010\n",
      "Epoch 14 end\n",
      "Epoch 15 start\n",
      "[Epoch: 015] Contrastive Pre-train | Loss: 0.9217 | Learning Rate: 0.0010\n",
      "Epoch 15 end\n",
      "Epoch 16 start\n",
      "[Epoch: 016] Contrastive Pre-train | Loss: 0.9292 | Learning Rate: 0.0010\n",
      "Epoch 16 end\n",
      "Epoch 17 start\n",
      "[Epoch: 017] Contrastive Pre-train | Loss: 0.9125 | Learning Rate: 0.0010\n",
      "Epoch 17 end\n",
      "Epoch 18 start\n",
      "[Epoch: 018] Contrastive Pre-train | Loss: 0.9121 | Learning Rate: 0.0010\n",
      "Epoch 18 end\n",
      "Epoch 19 start\n",
      "[Epoch: 019] Contrastive Pre-train | Loss: 0.8963 | Learning Rate: 0.0010\n",
      "Epoch 19 end\n",
      "Epoch 20 start\n",
      "[Epoch: 020] Contrastive Pre-train | Loss: 0.8896 | Learning Rate: 0.0010\n",
      "Epoch 20 end\n",
      "Epoch 21 start\n",
      "[Epoch: 021] Contrastive Pre-train | Loss: 0.8702 | Learning Rate: 0.0009\n",
      "Epoch 21 end\n",
      "Epoch 22 start\n",
      "[Epoch: 022] Contrastive Pre-train | Loss: 0.8589 | Learning Rate: 0.0009\n",
      "Epoch 22 end\n",
      "Epoch 23 start\n",
      "[Epoch: 023] Contrastive Pre-train | Loss: 0.8467 | Learning Rate: 0.0009\n",
      "Epoch 23 end\n",
      "Epoch 24 start\n",
      "[Epoch: 024] Contrastive Pre-train | Loss: 0.8478 | Learning Rate: 0.0009\n",
      "Epoch 24 end\n",
      "Epoch 25 start\n",
      "[Epoch: 025] Contrastive Pre-train | Loss: 0.8534 | Learning Rate: 0.0009\n",
      "Epoch 25 end\n",
      "Epoch 26 start\n",
      "[Epoch: 026] Contrastive Pre-train | Loss: 0.8387 | Learning Rate: 0.0009\n",
      "Epoch 26 end\n",
      "Epoch 27 start\n",
      "[Epoch: 027] Contrastive Pre-train | Loss: 0.8208 | Learning Rate: 0.0009\n",
      "Epoch 27 end\n",
      "Epoch 28 start\n",
      "[Epoch: 028] Contrastive Pre-train | Loss: 0.8265 | Learning Rate: 0.0009\n",
      "Epoch 28 end\n",
      "Epoch 29 start\n",
      "[Epoch: 029] Contrastive Pre-train | Loss: 0.8152 | Learning Rate: 0.0009\n",
      "Epoch 29 end\n",
      "Epoch 30 start\n",
      "[Epoch: 030] Contrastive Pre-train | Loss: 0.8211 | Learning Rate: 0.0009\n",
      "Epoch 30 end\n",
      "Epoch 31 start\n",
      "[Epoch: 031] Contrastive Pre-train | Loss: 0.8127 | Learning Rate: 0.0009\n",
      "Epoch 31 end\n",
      "Epoch 32 start\n",
      "[Epoch: 032] Contrastive Pre-train | Loss: 0.8060 | Learning Rate: 0.0009\n",
      "Epoch 32 end\n",
      "Epoch 33 start\n",
      "[Epoch: 033] Contrastive Pre-train | Loss: 0.8032 | Learning Rate: 0.0009\n",
      "Epoch 33 end\n",
      "Epoch 34 start\n",
      "[Epoch: 034] Contrastive Pre-train | Loss: 0.8028 | Learning Rate: 0.0009\n",
      "Epoch 34 end\n",
      "Epoch 35 start\n",
      "[Epoch: 035] Contrastive Pre-train | Loss: 0.7995 | Learning Rate: 0.0009\n",
      "Epoch 35 end\n",
      "Epoch 36 start\n",
      "[Epoch: 036] Contrastive Pre-train | Loss: 0.7959 | Learning Rate: 0.0009\n",
      "Epoch 36 end\n",
      "Epoch 37 start\n",
      "[Epoch: 037] Contrastive Pre-train | Loss: 0.7900 | Learning Rate: 0.0009\n",
      "Epoch 37 end\n",
      "Epoch 38 start\n",
      "[Epoch: 038] Contrastive Pre-train | Loss: 0.8028 | Learning Rate: 0.0009\n",
      "Epoch 38 end\n",
      "Epoch 39 start\n",
      "[Epoch: 039] Contrastive Pre-train | Loss: 0.7881 | Learning Rate: 0.0009\n",
      "Epoch 39 end\n",
      "Epoch 40 start\n",
      "[Epoch: 040] Contrastive Pre-train | Loss: 0.7916 | Learning Rate: 0.0009\n",
      "Epoch 40 end\n",
      "Epoch 41 start\n",
      "[Epoch: 041] Contrastive Pre-train | Loss: 0.7725 | Learning Rate: 0.0008\n",
      "Epoch 41 end\n",
      "Epoch 42 start\n",
      "[Epoch: 042] Contrastive Pre-train | Loss: 0.7688 | Learning Rate: 0.0008\n",
      "Epoch 42 end\n",
      "Epoch 43 start\n",
      "[Epoch: 043] Contrastive Pre-train | Loss: 0.7546 | Learning Rate: 0.0008\n",
      "Epoch 43 end\n",
      "Epoch 44 start\n",
      "[Epoch: 044] Contrastive Pre-train | Loss: 0.7666 | Learning Rate: 0.0008\n",
      "Epoch 44 end\n",
      "Epoch 45 start\n",
      "[Epoch: 045] Contrastive Pre-train | Loss: 0.7491 | Learning Rate: 0.0008\n",
      "Epoch 45 end\n",
      "Epoch 46 start\n",
      "[Epoch: 046] Contrastive Pre-train | Loss: 0.7613 | Learning Rate: 0.0008\n",
      "Epoch 46 end\n",
      "Epoch 47 start\n",
      "[Epoch: 047] Contrastive Pre-train | Loss: 0.7541 | Learning Rate: 0.0008\n",
      "Epoch 47 end\n",
      "Epoch 48 start\n",
      "[Epoch: 048] Contrastive Pre-train | Loss: 0.7554 | Learning Rate: 0.0008\n",
      "Epoch 48 end\n",
      "Epoch 49 start\n",
      "[Epoch: 049] Contrastive Pre-train | Loss: 0.7467 | Learning Rate: 0.0008\n",
      "Epoch 49 end\n",
      "Epoch 50 start\n",
      "[Epoch: 050] Contrastive Pre-train | Loss: 0.7570 | Learning Rate: 0.0008\n",
      "Epoch 50 end\n",
      "\n",
      "==> Saving...\n"
     ]
    },
    {
     "data": {
      "image/png": "[encoded data removed]",
      "text/plain": [
       "<Figure size 640x480 with 1 Axes>"
      ]
     },
     "metadata": {},
     "output_type": "display_data"
    },
    {
     "data": {
      "image/png": "[encoded data removed]",
      "text/plain": [
       "<Figure size 640x480 with 1 Axes>"
      ]
     },
     "metadata": {},
     "output_type": "display_data"
    },
    {
     "name": "stdout",
     "output_type": "stream",
     "text": [
      "Epoch 1 start\n",
      "[Epoch: 001] Train      | Loss: 2.3026 | Accuracy: 0.7866\n",
      "[Epoch: 001] Validation | Loss: 2.3025 | Accuracy: 0.8005\n",
      "Epoch 1 end\n",
      "Epoch 2 start\n",
      "[Epoch: 002] Train      | Loss: 2.3026 | Accuracy: 0.7862\n",
      "[Epoch: 002] Validation | Loss: 2.3025 | Accuracy: 0.8007\n",
      "Epoch 2 end\n",
      "> early stopping counter: 1 out of 30\n",
      "Epoch 3 start\n",
      "[Epoch: 003] Train      | Loss: 2.3026 | Accuracy: 0.7851\n",
      "[Epoch: 003] Validation | Loss: 2.3025 | Accuracy: 0.7985\n",
      "Epoch 3 end\n",
      "> early stopping counter: 2 out of 30\n",
      "Epoch 4 start\n",
      "[Epoch: 004] Train      | Loss: 2.3026 | Accuracy: 0.7839\n",
      "[Epoch: 004] Validation | Loss: 2.3025 | Accuracy: 0.8010\n",
      "Epoch 4 end\n",
      "> early stopping counter: 3 out of 30\n",
      "Epoch 5 start\n",
      "[Epoch: 005] Train      | Loss: 2.3026 | Accuracy: 0.7858\n",
      "[Epoch: 005] Validation | Loss: 2.3025 | Accuracy: 0.8014\n",
      "Epoch 5 end\n",
      "> early stopping counter: 4 out of 30\n",
      "Epoch 6 start\n",
      "[Epoch: 006] Train      | Loss: 2.3026 | Accuracy: 0.7855\n",
      "[Epoch: 006] Validation | Loss: 2.3025 | Accuracy: 0.7981\n",
      "Epoch 6 end\n",
      "> early stopping counter: 5 out of 30\n",
      "Epoch 7 start\n",
      "[Epoch: 007] Train      | Loss: 2.3026 | Accuracy: 0.7859\n",
      "[Epoch: 007] Validation | Loss: 2.3025 | Accuracy: 0.7988\n",
      "Epoch 7 end\n",
      "> early stopping counter: 6 out of 30\n",
      "Epoch 8 start\n",
      "[Epoch: 008] Train      | Loss: 2.3026 | Accuracy: 0.7857\n",
      "[Epoch: 008] Validation | Loss: 2.3025 | Accuracy: 0.8000\n",
      "Epoch 8 end\n",
      "> early stopping counter: 7 out of 30\n",
      "Epoch 9 start\n",
      "[Epoch: 009] Train      | Loss: 2.3026 | Accuracy: 0.7842\n",
      "[Epoch: 009] Validation | Loss: 2.3025 | Accuracy: 0.8014\n",
      "Epoch 9 end\n",
      "> early stopping counter: 8 out of 30\n",
      "Epoch 10 start\n",
      "[Epoch: 010] Train      | Loss: 2.3026 | Accuracy: 0.7849\n",
      "[Epoch: 010] Validation | Loss: 2.3025 | Accuracy: 0.7994\n",
      "Epoch 10 end\n",
      "> early stopping counter: 9 out of 30\n",
      "Epoch 11 start\n",
      "[Epoch: 011] Train      | Loss: 2.3026 | Accuracy: 0.7847\n",
      "[Epoch: 011] Validation | Loss: 2.3025 | Accuracy: 0.8012\n",
      "Epoch 11 end\n",
      "> early stopping counter: 10 out of 30\n",
      "Epoch 12 start\n",
      "[Epoch: 012] Train      | Loss: 2.3026 | Accuracy: 0.7859\n",
      "[Epoch: 012] Validation | Loss: 2.3025 | Accuracy: 0.8002\n",
      "Epoch 12 end\n",
      "> early stopping counter: 11 out of 30\n",
      "Epoch 13 start\n",
      "[Epoch: 013] Train      | Loss: 2.3026 | Accuracy: 0.7864\n",
      "[Epoch: 013] Validation | Loss: 2.3025 | Accuracy: 0.7994\n",
      "Epoch 13 end\n",
      "> early stopping counter: 12 out of 30\n",
      "Epoch 14 start\n",
      "[Epoch: 014] Train      | Loss: 2.3026 | Accuracy: 0.7848\n",
      "[Epoch: 014] Validation | Loss: 2.3025 | Accuracy: 0.8006\n",
      "Epoch 14 end\n",
      "> early stopping counter: 13 out of 30\n",
      "Epoch 15 start\n",
      "[Epoch: 015] Train      | Loss: 2.3026 | Accuracy: 0.7845\n",
      "[Epoch: 015] Validation | Loss: 2.3025 | Accuracy: 0.7993\n",
      "Epoch 15 end\n",
      "> early stopping counter: 14 out of 30\n",
      "Epoch 16 start\n",
      "[Epoch: 016] Train      | Loss: 2.3026 | Accuracy: 0.7844\n",
      "[Epoch: 016] Validation | Loss: 2.3025 | Accuracy: 0.7991\n",
      "Epoch 16 end\n",
      "> early stopping counter: 15 out of 30\n",
      "Epoch 17 start\n",
      "[Epoch: 017] Train      | Loss: 2.3026 | Accuracy: 0.7868\n",
      "[Epoch: 017] Validation | Loss: 2.3025 | Accuracy: 0.7992\n",
      "Epoch 17 end\n",
      "> early stopping counter: 16 out of 30\n",
      "Epoch 18 start\n",
      "[Epoch: 018] Train      | Loss: 2.3026 | Accuracy: 0.7867\n",
      "[Epoch: 018] Validation | Loss: 2.3025 | Accuracy: 0.8016\n",
      "Epoch 18 end\n",
      "> early stopping counter: 17 out of 30\n",
      "Epoch 19 start\n",
      "[Epoch: 019] Train      | Loss: 2.3026 | Accuracy: 0.7874\n",
      "[Epoch: 019] Validation | Loss: 2.3025 | Accuracy: 0.7988\n",
      "Epoch 19 end\n",
      "> early stopping counter: 18 out of 30\n",
      "Epoch 20 start\n",
      "[Epoch: 020] Train      | Loss: 2.3026 | Accuracy: 0.7844\n",
      "[Epoch: 020] Validation | Loss: 2.3025 | Accuracy: 0.7993\n",
      "Epoch 20 end\n",
      "> early stopping counter: 19 out of 30\n",
      "Epoch 21 start\n",
      "[Epoch: 021] Train      | Loss: 2.3026 | Accuracy: 0.7848\n",
      "[Epoch: 021] Validation | Loss: 2.3025 | Accuracy: 0.8017\n",
      "Epoch 21 end\n",
      "> early stopping counter: 20 out of 30\n",
      "Epoch 22 start\n",
      "[Epoch: 022] Train      | Loss: 2.3026 | Accuracy: 0.7858\n",
      "[Epoch: 022] Validation | Loss: 2.3025 | Accuracy: 0.8027\n",
      "Epoch 22 end\n",
      "> early stopping counter: 21 out of 30\n",
      "Epoch 23 start\n",
      "[Epoch: 023] Train      | Loss: 2.3026 | Accuracy: 0.7855\n",
      "[Epoch: 023] Validation | Loss: 2.3025 | Accuracy: 0.8012\n",
      "Epoch 23 end\n",
      "> early stopping counter: 22 out of 30\n",
      "Epoch 24 start\n",
      "[Epoch: 024] Train      | Loss: 2.3026 | Accuracy: 0.7858\n",
      "[Epoch: 024] Validation | Loss: 2.3025 | Accuracy: 0.7981\n",
      "Epoch 24 end\n",
      "> early stopping counter: 23 out of 30\n",
      "Epoch 25 start\n",
      "[Epoch: 025] Train      | Loss: 2.3026 | Accuracy: 0.7861\n",
      "[Epoch: 025] Validation | Loss: 2.3025 | Accuracy: 0.7990\n",
      "Epoch 25 end\n",
      "> early stopping counter: 24 out of 30\n",
      "Epoch 26 start\n",
      "[Epoch: 026] Train      | Loss: 2.3026 | Accuracy: 0.7849\n",
      "[Epoch: 026] Validation | Loss: 2.3025 | Accuracy: 0.8008\n",
      "Epoch 26 end\n",
      "> early stopping counter: 25 out of 30\n",
      "Epoch 27 start\n",
      "[Epoch: 027] Train      | Loss: 2.3026 | Accuracy: 0.7850\n",
      "[Epoch: 027] Validation | Loss: 2.3025 | Accuracy: 0.7983\n",
      "Epoch 27 end\n",
      "> early stopping counter: 26 out of 30\n",
      "Epoch 28 start\n",
      "[Epoch: 028] Train      | Loss: 2.3026 | Accuracy: 0.7841\n",
      "[Epoch: 028] Validation | Loss: 2.3025 | Accuracy: 0.8007\n",
      "Epoch 28 end\n",
      "> early stopping counter: 27 out of 30\n",
      "Epoch 29 start\n",
      "[Epoch: 029] Train      | Loss: 2.3026 | Accuracy: 0.7855\n",
      "[Epoch: 029] Validation | Loss: 2.3025 | Accuracy: 0.7991\n",
      "Epoch 29 end\n",
      "> early stopping counter: 28 out of 30\n",
      "Epoch 30 start\n",
      "[Epoch: 030] Train      | Loss: 2.3026 | Accuracy: 0.7865\n",
      "[Epoch: 030] Validation | Loss: 2.3025 | Accuracy: 0.8010\n",
      "Epoch 30 end\n",
      "> early stopping counter: 29 out of 30\n",
      "Epoch 31 start\n",
      "[Epoch: 031] Train      | Loss: 2.3026 | Accuracy: 0.7853\n",
      "[Epoch: 031] Validation | Loss: 2.3025 | Accuracy: 0.8007\n",
      "Epoch 31 end\n",
      "> early stopping counter: 30 out of 30\n",
      "Early stopping at epoch 31\n"
     ]
    },
    {
     "data": {
      "image/png": "[encoded data removed]",
      "text/plain": [
       "<Figure size 640x480 with 1 Axes>"
      ]
     },
     "metadata": {},
     "output_type": "display_data"
    },
    {
     "data": {
      "image/png": "[encoded data removed]",
      "text/plain": [
       "<Figure size 640x480 with 1 Axes>"
      ]
     },
     "metadata": {},
     "output_type": "display_data"
    }
   ],
   "source": [
    "main()"
   ]
  }
 ],
 "metadata": {
  "accelerator": "GPU",
  "colab": {
   "gpuType": "A100",
   "machine_shape": "hm",
   "provenance": [],
   "toc_visible": true
  },
  "kernelspec": {
   "display_name": "Python 3 (ipykernel)",
   "language": "python",
   "name": "python3"
  },
  "language_info": {
   "codemirror_mode": {
    "name": "ipython",
    "version": 3
   },
   "file_extension": ".py",
   "mimetype": "text/x-python",
   "name": "python",
   "nbconvert_exporter": "python",
   "pygments_lexer": "ipython3",
   "version": "3.9.13"
  }
 },
 "nbformat": 4,
 "nbformat_minor": 1
}
